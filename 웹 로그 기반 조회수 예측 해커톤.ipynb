{
 "cells": [
  {
   "cell_type": "markdown",
   "metadata": {},
   "source": [
    "## Import"
   ]
  },
  {
   "cell_type": "code",
   "execution_count": 17,
   "metadata": {},
   "outputs": [
    {
     "name": "stdout",
     "output_type": "stream",
     "text": [
      "             sessionID       userID  TARGET           browser         OS  \\\n",
      "0       SESSION_000000  USER_000000    17.0            Chrome  Macintosh   \n",
      "1       SESSION_000001  USER_000001     3.0            Chrome    Windows   \n",
      "2       SESSION_000002  USER_000002     1.0  Samsung Internet    Android   \n",
      "3       SESSION_000003  USER_000003     1.0            Chrome  Macintosh   \n",
      "4       SESSION_000004  USER_000004     1.0            Chrome        iOS   \n",
      "...                ...          ...     ...               ...        ...   \n",
      "252284  SESSION_252284  USER_206021     1.0            Chrome    Android   \n",
      "252285  SESSION_252285  USER_206022     1.0            Chrome  Macintosh   \n",
      "252286  SESSION_252286  USER_164240     5.0            Chrome  Macintosh   \n",
      "252287  SESSION_252287  USER_206023     1.0   Android Webview    Android   \n",
      "252288  SESSION_252288  USER_161023     6.0            Chrome  Macintosh   \n",
      "\n",
      "         device  new  quality  duration  bounced  transaction  \\\n",
      "0       desktop    0     45.0     839.0        0          0.0   \n",
      "1       desktop    1      1.0      39.0        0          0.0   \n",
      "2        mobile    1      1.0       0.0        1          0.0   \n",
      "3       desktop    1      1.0       0.0        1          0.0   \n",
      "4        mobile    0      1.0       0.0        1          0.0   \n",
      "...         ...  ...      ...       ...      ...          ...   \n",
      "252284   mobile    1      1.0       0.0        1          0.0   \n",
      "252285  desktop    0      1.0       0.0        1          0.0   \n",
      "252286  desktop    0      2.0      69.0        0          0.0   \n",
      "252287   mobile    1      1.0      28.0        0          0.0   \n",
      "252288  desktop    0      5.0      77.0        0          0.0   \n",
      "\n",
      "        transaction_revenue continent      subcontinent         country  \\\n",
      "0                       0.0  Americas  Northern America   United States   \n",
      "1                       0.0    Europe    Western Europe         Germany   \n",
      "2                       0.0      Asia    Southeast Asia        Malaysia   \n",
      "3                       0.0  Americas  Northern America   United States   \n",
      "4                       0.0  Americas  Northern America   United States   \n",
      "...                     ...       ...               ...             ...   \n",
      "252284                  0.0    Europe   Northern Europe  United Kingdom   \n",
      "252285                  0.0  Americas  Northern America   United States   \n",
      "252286                  0.0  Americas  Northern America   United States   \n",
      "252287                  0.0    Africa   Northern Africa           Egypt   \n",
      "252288                  0.0  Americas  Northern America   United States   \n",
      "\n",
      "           traffic_source traffic_medium    keyword        referral_path  \n",
      "0                  google        organic  Category8                  NaN  \n",
      "1                  google        organic  Category8                  NaN  \n",
      "2                (direct)         (none)        NaN                  NaN  \n",
      "3                Partners      affiliate        NaN                  NaN  \n",
      "4       groups.google.com       referral        NaN  Category6_Path_0000  \n",
      "...                   ...            ...        ...                  ...  \n",
      "252284        youtube.com       referral        NaN  Category5_Path_0032  \n",
      "252285             google        organic  Category8                  NaN  \n",
      "252286           (direct)         (none)        NaN            Category1  \n",
      "252287        youtube.com       referral        NaN  Category2_Path_0018  \n",
      "252288           (direct)         (none)        NaN            Category1  \n",
      "\n",
      "[252289 rows x 19 columns]\n",
      "********************************************************************************\n"
     ]
    }
   ],
   "source": [
    "import pandas as pd\n",
    "import numpy as np\n",
    "import requests\n",
    "from bs4 import BeautifulSoup\n",
    "\n",
    "import random\n",
    "import os\n",
    "\n",
    "import matplotlib.pyplot as plt\n",
    "import seaborn as sns\n",
    "\n",
    "from sklearn.preprocessing import LabelEncoder\n",
    "from sklearn.linear_model import Lasso\n",
    "\n",
    "#----------------------------------------\n",
    "\n",
    "## Fixed Random-Seed\n",
    "\n",
    "def seed_everything(seed):\n",
    "    random.seed(seed)\n",
    "    os.environ['PYTHONHASHSEED'] = str(seed)\n",
    "    np.random.seed(seed)\n",
    "\n",
    "seed_everything(42) #Seed 고점\n",
    "\n",
    "## Load Data\n",
    "\n",
    "file_path1 = 'C:/Users/human/Downloads/웹 로그 기반 조회수 예측 해커톤/train.csv'\n",
    "\n",
    "df_train = pd.read_csv(file_path1, encoding='utf8')\n",
    "\n",
    "print(df_train)\n",
    "\n",
    "print('*'*80)\n",
    "\n"
   ]
  },
  {
   "cell_type": "code",
   "execution_count": 18,
   "metadata": {},
   "outputs": [
    {
     "name": "stdout",
     "output_type": "stream",
     "text": [
      "            sessionID       userID            browser             OS   device  \\\n",
      "0      SESSION_252289  USER_206024             Chrome          Linux  desktop   \n",
      "1      SESSION_252290  USER_206025             Safari            iOS   tablet   \n",
      "2      SESSION_252291  USER_206026             Chrome        Windows  desktop   \n",
      "3      SESSION_252292  USER_206027             Chrome        Android   mobile   \n",
      "4      SESSION_252293  USER_206028  Internet Explorer  Windows Phone   mobile   \n",
      "...               ...          ...                ...            ...      ...   \n",
      "79781  SESSION_332070  USER_268999  Internet Explorer        Windows   tablet   \n",
      "79782  SESSION_332071  USER_269000             Chrome      Macintosh  desktop   \n",
      "79783  SESSION_332072  USER_269001             Safari      Macintosh  desktop   \n",
      "79784  SESSION_332073  USER_269002             Safari            iOS   mobile   \n",
      "79785  SESSION_332074  USER_269003             Chrome        Android   mobile   \n",
      "\n",
      "       new  quality  duration  bounced  transaction  transaction_revenue  \\\n",
      "0        1     75.0     698.0        0          0.0                  0.0   \n",
      "1        0      1.0       0.0        1          0.0                  0.0   \n",
      "2        1      1.0      33.0        0          0.0                  0.0   \n",
      "3        1      1.0      76.0        0          0.0                  0.0   \n",
      "4        1      2.0     372.0        0          0.0                  0.0   \n",
      "...    ...      ...       ...      ...          ...                  ...   \n",
      "79781    1      1.0       0.0        1          0.0                  0.0   \n",
      "79782    1      1.0       0.0        1          0.0                  0.0   \n",
      "79783    1      1.0      22.0        0          0.0                  0.0   \n",
      "79784    1      1.0     135.0        0          0.0                  0.0   \n",
      "79785    1      1.0       0.0        1          0.0                  0.0   \n",
      "\n",
      "      continent      subcontinent        country      traffic_source  \\\n",
      "0      Americas  Northern America  United States            (direct)   \n",
      "1      Americas  Northern America  United States              google   \n",
      "2          Asia     Southern Asia          India         youtube.com   \n",
      "3      Americas  Northern America  United States              google   \n",
      "4          Asia     Southern Asia          India         youtube.com   \n",
      "...         ...               ...            ...                 ...   \n",
      "79781  Americas  Northern America  United States  search.xfinity.com   \n",
      "79782  Americas  Northern America  United States              google   \n",
      "79783   Oceania       Australasia      Australia              google   \n",
      "79784  Americas  Northern America  United States              google   \n",
      "79785    Europe   Southern Europe          Italy              google   \n",
      "\n",
      "      traffic_medium    keyword         referral_path  \n",
      "0             (none)        NaN             Category1  \n",
      "1            organic  Category8                   NaN  \n",
      "2           referral        NaN   Category2_Path_0082  \n",
      "3            organic  Category8                   NaN  \n",
      "4           referral        NaN  Category11_Path_0088  \n",
      "...              ...        ...                   ...  \n",
      "79781       referral        NaN             Category1  \n",
      "79782        organic  Category8                   NaN  \n",
      "79783        organic  Category8                   NaN  \n",
      "79784        organic  Category8                   NaN  \n",
      "79785        organic  Category8                   NaN  \n",
      "\n",
      "[79786 rows x 18 columns]\n"
     ]
    }
   ],
   "source": [
    "file_path2 = 'C:/Users/human/Downloads/웹 로그 기반 조회수 예측 해커톤/test.csv'\n",
    "df_test = pd.read_csv(file_path2, encoding='utf8')\n",
    "print(df_test)"
   ]
  },
  {
   "cell_type": "code",
   "execution_count": 19,
   "metadata": {},
   "outputs": [
    {
     "name": "stdout",
     "output_type": "stream",
     "text": [
      "sessionID                   0\n",
      "userID                      0\n",
      "TARGET                      0\n",
      "browser                     0\n",
      "OS                          0\n",
      "device                      0\n",
      "new                         0\n",
      "quality                     0\n",
      "duration                    0\n",
      "bounced                     0\n",
      "transaction                 0\n",
      "transaction_revenue         0\n",
      "continent                   0\n",
      "subcontinent                0\n",
      "country                     0\n",
      "traffic_source              0\n",
      "traffic_medium              0\n",
      "keyword                137675\n",
      "referral_path          161107\n",
      "dtype: int64\n",
      "********************************************************************************\n",
      "Train 데이터셋의 결측값 : \n",
      "keyword          137675\n",
      "referral_path    161107\n",
      "dtype: int64\n",
      "********************************************************************************\n",
      "Train 데이터셋의 결측값 : \n",
      "sessionID                   0\n",
      "userID                      0\n",
      "TARGET                      0\n",
      "browser                     0\n",
      "OS                          0\n",
      "device                      0\n",
      "new                         0\n",
      "quality                     0\n",
      "duration                    0\n",
      "bounced                     0\n",
      "transaction                 0\n",
      "transaction_revenue         0\n",
      "continent                   0\n",
      "subcontinent                0\n",
      "country                     0\n",
      "traffic_source              0\n",
      "traffic_medium              0\n",
      "keyword                137675\n",
      "referral_path          161107\n",
      "dtype: int64 > 0\n"
     ]
    }
   ],
   "source": [
    "# 모델에게 입력할 학습데이터와 추론데이터에 대해 결측값을 대체해보자.\n",
    "# 단, 추론 데이터 결측값 대체시에 추론데이터의 통계량을 활용할 경우 Data Leakage에 해당됨.\n",
    "\n",
    "# train 데이터셋에서 결측값 확인\n",
    "\n",
    "train_missing_values = df_train.isnull().sum()\n",
    "\n",
    "print(train_missing_values)\n",
    "\n",
    "print('*'*80)\n",
    "\n",
    "print('Train 데이터셋의 결측값 : ')\n",
    "print(train_missing_values[train_missing_values > 0]) # 결측값이 있는 열만 출력.\n",
    "\n",
    "print('*'*80)\n",
    "\n",
    "print(f'Train 데이터셋의 결측값 : \\n{train_missing_values} > 0')"
   ]
  },
  {
   "cell_type": "code",
   "execution_count": 20,
   "metadata": {},
   "outputs": [
    {
     "name": "stderr",
     "output_type": "stream",
     "text": [
      "C:\\Users\\human\\AppData\\Local\\Temp\\ipykernel_1468\\3749262479.py:5: FutureWarning: A value is trying to be set on a copy of a DataFrame or Series through chained assignment using an inplace method.\n",
      "The behavior will change in pandas 3.0. This inplace method will never work because the intermediate object on which we are setting values always behaves as a copy.\n",
      "\n",
      "For example, when doing 'df[col].method(value, inplace=True)', try using 'df.method({col: value}, inplace=True)' or df[col] = df[col].method(value) instead, to perform the operation inplace on the original object.\n",
      "\n",
      "\n",
      "  df_test['keyword'].fillna(df_train['keyword'].mode()[0], inplace=True) # train의 최빈값 사용\n",
      "C:\\Users\\human\\AppData\\Local\\Temp\\ipykernel_1468\\3749262479.py:7: FutureWarning: A value is trying to be set on a copy of a DataFrame or Series through chained assignment using an inplace method.\n",
      "The behavior will change in pandas 3.0. This inplace method will never work because the intermediate object on which we are setting values always behaves as a copy.\n",
      "\n",
      "For example, when doing 'df[col].method(value, inplace=True)', try using 'df.method({col: value}, inplace=True)' or df[col] = df[col].method(value) instead, to perform the operation inplace on the original object.\n",
      "\n",
      "\n",
      "  df_test['referral_path'].fillna(df_train['referral_path'].mode()[0], inplace=True)\n"
     ]
    }
   ],
   "source": [
    "# test 데이터의 결측값 대체\n",
    "\n",
    "#df_train.dropna(subset=\n",
    "\n",
    "df_test['keyword'].fillna(df_train['keyword'].mode()[0], inplace=True) # train의 최빈값 사용\n",
    "\n",
    "df_test['referral_path'].fillna(df_train['referral_path'].mode()[0], inplace=True)"
   ]
  },
  {
   "cell_type": "markdown",
   "metadata": {},
   "source": [
    "## 데이터 전처리 2: Label 인코딩 및 변수 제거"
   ]
  },
  {
   "cell_type": "code",
   "execution_count": 21,
   "metadata": {},
   "outputs": [],
   "source": [
    "# Label인코딩을 위해 범주형 변수와 그 고유값의 개수를 확인해보자."
   ]
  },
  {
   "cell_type": "code",
   "execution_count": 22,
   "metadata": {},
   "outputs": [
    {
     "name": "stdout",
     "output_type": "stream",
     "text": [
      "sessionID: 252289\n",
      "userID: 206024\n",
      "browser: 70\n",
      "OS: 21\n",
      "device: 3\n",
      "continent: 6\n",
      "subcontinent: 23\n",
      "country: 205\n",
      "traffic_source: 168\n",
      "traffic_medium: 7\n",
      "keyword: 623\n",
      "referral_path: 1578\n"
     ]
    }
   ],
   "source": [
    "categorical_features = list(df_train.dtypes[df_train.dtypes == 'object'].index)\n",
    "\n",
    "for i in categorical_features:\n",
    "    count = df_train[i].nunique()\n",
    "    print(f'{i}: {count}')"
   ]
  },
  {
   "cell_type": "code",
   "execution_count": 23,
   "metadata": {},
   "outputs": [],
   "source": [
    "df_train = df_train.drop(columns=['sessionID', 'userID'],axis=1)\n",
    "\n",
    "df_test = df_test.drop(columns=['sessionID', 'userID'], axis=1)"
   ]
  },
  {
   "cell_type": "code",
   "execution_count": 24,
   "metadata": {},
   "outputs": [],
   "source": [
    "encoding_target = list(df_train.dtypes[df_train.dtypes == 'object'].index)\n",
    "\n",
    "for i in encoding_target:\n",
    "    le = LabelEncoder()\n",
    "    le.fit(df_train[i])\n",
    "    df_train[i] = le.transform(df_train[i])\n",
    "\n",
    "    # test 데이터의 새로운 카테고리에 대해 le.classes_ 배열에 추가\n",
    "    # test 데이터에 대해서 직접적으로 fit을 수행할 경우 Data Leakage\n",
    "    for case in np.unique(df_test[i]):\n",
    "        if case not in le.classes_:\n",
    "            le.classes_ = np.append(le.classes_, case)\n",
    "\n",
    "    df_test[i] = le.transform(df_test[i])"
   ]
  },
  {
   "cell_type": "markdown",
   "metadata": {},
   "source": [
    "## X와 Y 설정"
   ]
  },
  {
   "cell_type": "code",
   "execution_count": 25,
   "metadata": {},
   "outputs": [],
   "source": [
    "df_train_x = df_train.drop(columns=['TARGET'])\n",
    "\n",
    "df_train_y = df_train['TARGET']\n",
    "\n",
    "df_test_x = df_test"
   ]
  },
  {
   "cell_type": "markdown",
   "metadata": {},
   "source": [
    "## Model Learning and Prediction"
   ]
  },
  {
   "cell_type": "code",
   "execution_count": 26,
   "metadata": {},
   "outputs": [],
   "source": [
    "### Lasso 모델을 사용하여 학습하고, 예측을 수행합니다.\n",
    "\n",
    "lasso = Lasso(alpha=0.1).fit(df_train_x, df_train_y)\n",
    "preds = lasso.predict(df_test_x)"
   ]
  },
  {
   "cell_type": "markdown",
   "metadata": {},
   "source": [
    "## Submission"
   ]
  },
  {
   "cell_type": "code",
   "execution_count": 27,
   "metadata": {},
   "outputs": [
    {
     "name": "stdout",
     "output_type": "stream",
     "text": [
      "            sessionID  TARGET\n",
      "0      SESSION_252289       0\n",
      "1      SESSION_252290       0\n",
      "2      SESSION_252291       0\n",
      "3      SESSION_252292       0\n",
      "4      SESSION_252293       0\n",
      "...               ...     ...\n",
      "79781  SESSION_332070       0\n",
      "79782  SESSION_332071       0\n",
      "79783  SESSION_332072       0\n",
      "79784  SESSION_332073       0\n",
      "79785  SESSION_332074       0\n",
      "\n",
      "[79786 rows x 2 columns]\n"
     ]
    }
   ],
   "source": [
    "submission = pd.read_csv('C:/Users/human/Downloads/웹 로그 기반 조회수 예측 해커톤/sample_submission.csv')\n",
    "print(submission)"
   ]
  },
  {
   "cell_type": "code",
   "execution_count": 28,
   "metadata": {},
   "outputs": [
    {
     "name": "stdout",
     "output_type": "stream",
     "text": [
      "            sessionID     TARGET\n",
      "0      SESSION_252289  22.572787\n",
      "1      SESSION_252290   0.814696\n",
      "2      SESSION_252291   3.587189\n",
      "3      SESSION_252292   3.646200\n",
      "4      SESSION_252293   5.358456\n",
      "...               ...        ...\n",
      "79781  SESSION_332070   0.837404\n",
      "79782  SESSION_332071   0.873058\n",
      "79783  SESSION_332072   3.548467\n",
      "79784  SESSION_332073   3.979518\n",
      "79785  SESSION_332074   0.809208\n",
      "\n",
      "[79786 rows x 2 columns]\n"
     ]
    }
   ],
   "source": [
    "submission['TARGET'] = preds\n",
    "print(submission)"
   ]
  },
  {
   "cell_type": "code",
   "execution_count": 29,
   "metadata": {},
   "outputs": [],
   "source": [
    "submission.to_csv('./baseline_submission.csv', index=False)"
   ]
  }
 ],
 "metadata": {
  "kernelspec": {
   "display_name": "Python 3",
   "language": "python",
   "name": "python3"
  },
  "language_info": {
   "codemirror_mode": {
    "name": "ipython",
    "version": 3
   },
   "file_extension": ".py",
   "mimetype": "text/x-python",
   "name": "python",
   "nbconvert_exporter": "python",
   "pygments_lexer": "ipython3",
   "version": "3.11.8"
  }
 },
 "nbformat": 4,
 "nbformat_minor": 2
}
